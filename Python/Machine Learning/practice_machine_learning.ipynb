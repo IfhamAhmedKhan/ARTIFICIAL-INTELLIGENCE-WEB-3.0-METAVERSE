{
 "cells": [
  {
   "cell_type": "code",
   "execution_count": null,
   "id": "289e2d1d",
   "metadata": {},
   "outputs": [],
   "source": [
    "print(\"welcome to ifteriousnater\")\n",
    "print(\"--------------------\")"
   ]
  },
  {
   "cell_type": "code",
   "execution_count": null,
   "id": "5ffec0a7",
   "metadata": {},
   "outputs": [],
   "source": [
    "# data\n",
    "superman = [\"cape\", \"heat vision\", \"steel body\", \"Dc character\", \"Can fly\", \"Super speed\", \"Strength\"]\n",
    "batman = [\"cape\", \"knowledge\", \"rich\", \"Dc character\", \"Cannot fly\", \"Stealth\", \"Agility\"]"
   ]
  },
  {
   "cell_type": "code",
   "execution_count": null,
   "id": "37beaab0",
   "metadata": {},
   "outputs": [],
   "source": [
    "counter_sup = 0\n",
    "counter_bat = 0\n",
    "guess1 = input(\"Does your superhero wear cape? Ans: Y or N\")\n",
    "guess2 = input(\"Does your superhero use heat vision? Ans: Y or N\")\n",
    "guess3 = input(\"Does your superhero have steel body? Ans: Y or N\")\n",
    "guess4 = input(\"Is your superhero from dc universe? Ans: Y or N\")\n",
    "guess5 = input(\"Does your superhero Fly? Ans: Y or N\")\n",
    "guess6 = input(\"Does your superhero have super speed? Ans: Y or N\")\n",
    "guess7 = input(\"Is your superhero rich? Ans: Y or N\")\n",
    "guess8 = input(\"Is your character stealthy? Ans: Y or N\")\n",
    "guess9 = input(\"Does your superhero have agility? Ans: Y or N\")"
   ]
  },
  {
   "cell_type": "code",
   "execution_count": 12,
   "id": "8b394dae",
   "metadata": {},
   "outputs": [
    {
     "name": "stdout",
     "output_type": "stream",
     "text": [
      "welcome to ifteriousnater\n",
      "--------------------\n",
      "Does your superhero wear cape? Ans: Y or NY\n",
      "Can't guess!\n",
      "Does your superhero use heat vision? Ans: Y or NN\n",
      "You are thinking about batman\n",
      "Does your superhero have steel body? Ans: Y or NY\n",
      "Can't guess!\n",
      "Is your superhero from dc universe? Ans: Y or NY\n",
      "Can't guess!\n",
      "Is your superhero rich? Ans: Y or NN\n"
     ]
    }
   ],
   "source": [
    "print(\"welcome to ifteriousnater\")\n",
    "print(\"--------------------\")\n",
    "\n",
    "counter_sup = 0\n",
    "counter_bat = 0\n",
    "\n",
    "for i in range(5):\n",
    "    if(i==0):\n",
    "        guess1 = input(\"Does your superhero wear cape? Ans: Y or N\")\n",
    "        if(guess1 == \"Y\"):\n",
    "            counter_sup+=1\n",
    "            counter_bat+=1\n",
    "    if(i==1):\n",
    "        guess2 = input(\"Does your superhero use heat vision? Ans: Y or N\")\n",
    "        if(guess2 == \"Y\"):\n",
    "            counter_sup+=1\n",
    "        else:\n",
    "            counter_bat+=1\n",
    "    if(i==2):\n",
    "        guess3 = input(\"Does your superhero have steel body? Ans: Y or N\")\n",
    "        if(guess3 == \"Y\"):\n",
    "            counter_sup+=1\n",
    "        else:\n",
    "            counter_bat+=1\n",
    "    if(i==3):\n",
    "        guess4 = input(\"Is your superhero from dc universe? Ans: Y or N\")\n",
    "        if(guess4 == \"Y\"):\n",
    "            counter_sup+=1\n",
    "            counter_bat+=1\n",
    "    if(i==4):\n",
    "        guess7 = input(\"Is your superhero rich? Ans: Y or N\")\n",
    "        if(guess7 == \"Y\"):\n",
    "            counter_bat+=1\n",
    "        else:\n",
    "            counter_sup+=1\n",
    "    else:\n",
    "        if(counter_sup>counter_bat):\n",
    "            print(\"You are thinking about superman\")\n",
    "        elif(counter_bat>counter_sup):\n",
    "            print(\"You are thinking about batman\")\n",
    "        else:\n",
    "            print(\"Can't guess!\")\n",
    "    "
   ]
  },
  {
   "cell_type": "code",
   "execution_count": null,
   "id": "7d9ce226",
   "metadata": {},
   "outputs": [],
   "source": []
  }
 ],
 "metadata": {
  "kernelspec": {
   "display_name": "Python 3 (ipykernel)",
   "language": "python",
   "name": "python3"
  },
  "language_info": {
   "codemirror_mode": {
    "name": "ipython",
    "version": 3
   },
   "file_extension": ".py",
   "mimetype": "text/x-python",
   "name": "python",
   "nbconvert_exporter": "python",
   "pygments_lexer": "ipython3",
   "version": "3.9.13"
  }
 },
 "nbformat": 4,
 "nbformat_minor": 5
}
